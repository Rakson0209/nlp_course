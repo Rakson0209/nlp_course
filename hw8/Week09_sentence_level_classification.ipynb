{
  "cells": [
    {
      "cell_type": "markdown",
      "metadata": {
        "id": "7L3cYlZl15_K"
      },
      "source": [
        "# Week 9: Sentence Level Classification with BERT\n",
        "\n",
        "Your goal this week is to train a classifier that can predict the CEFR level of any given sentence. In this notebook we will guide you through the process of using 🤗[Hugging Face](https://huggingface.co/) and its transformers library as the training framework, with [Pytorch](https://pytorch.org/) as the deep learning backend, but feel free to use [TensorFlow](https://www.tensorflow.org) if that's what you are more familiar with.\n",
        "\n",
        "For this assignment we will provide a dataset containing sentences with the corresponding CEFR level, and you have to use BERT and train a sentence classifier with this dataset."
      ]
    },
    {
      "cell_type": "markdown",
      "metadata": {
        "id": "G8TbxtroCxM8"
      },
      "source": [
        "## Prepare your environment\n",
        "\n",
        "As always, we highly recommend that you install all packages with a virtual environment manager, like [venv](https://packaging.python.org/en/latest/guides/installing-using-pip-and-virtual-environments/) or [conda](https://docs.conda.io/projects/conda/en/latest/user-guide/getting-started.html), to prevent version conflicts of different packages.  "
      ]
    },
    {
      "cell_type": "markdown",
      "metadata": {
        "id": "wSHP0CPoXj7Z"
      },
      "source": [
        "### Install CUDA\n",
        "Deep learning is a computionally extensive process. It takes lots of time if relying only on the CPU, especially when it's trained on a large dataset. That's why using GPU instead is generally recommended.  \n",
        "To use GPU for computation, you have to install [CUDA toolkit](https://developer.nvidia.com/cuda-toolkit) as well as the [cuDNN library](https://developer.nvidia.com/cudnn) provided by NVIDIA.  \n",
        "\n",
        "If you already had CUDA installed on your machine, then great! You're done here.  \n",
        "If you don't, you can refer to [Appendix](#Appendix-1-Install-CUDA) to see how to do so."
      ]
    },
    {
      "cell_type": "markdown",
      "metadata": {
        "id": "f78jLXeZfPyH"
      },
      "source": [
        "\n",
        "### Install python packages\n",
        "The following python packages will be used in this tutorial:\n",
        "\n",
        "1. `numpy`: for matrix operation\n",
        "2. `scikit-learn`: for label encoding\n",
        "3. `datasets`: for data preparation\n",
        "4. `transformers`: for model loading and finetuing\n",
        "5. `pytorch`: the backend DL framework\n",
        "  - Note that the pt version must support the CUDA version you've installed if you want to use GPU."
      ]
    },
    {
      "cell_type": "markdown",
      "metadata": {
        "id": "3cS9CxjyfQ-F"
      },
      "source": [
        "### Select GPU(s) for your backend\n",
        "\n",
        "Skip this section if you have no intension of using GPU with tensorflow/pytorch."
      ]
    },
    {
      "cell_type": "code",
      "execution_count": 1,
      "metadata": {
        "id": "sEJ8Y8SCfWp_"
      },
      "outputs": [],
      "source": [
        "import os\n",
        "\n",
        "# select your GPU. Note that this should be set before you load tensorflow or pytorch.\n",
        "os.environ['CUDA_VISIBLE_DEVICES'] = '0'\n",
        "\n",
        "# To use multiple GPUs, combine all GPU ID with commas\n",
        "# e.g. >>> os.environ['CUDA_VISIBLE_DEVICES'] = '0,1,3'"
      ]
    },
    {
      "cell_type": "code",
      "execution_count": 2,
      "metadata": {
        "colab": {
          "base_uri": "https://localhost:8080/"
        },
        "id": "p1p_qQKbfcCH",
        "outputId": "d25bdd87-959c-435d-8c57-22f5c350098f"
      },
      "outputs": [
        {
          "name": "stderr",
          "output_type": "stream",
          "text": [
            "c:\\Users\\love4\\anaconda3\\envs\\pytorch\\lib\\site-packages\\tqdm\\auto.py:22: TqdmWarning: IProgress not found. Please update jupyter and ipywidgets. See https://ipywidgets.readthedocs.io/en/stable/user_install.html\n",
            "  from .autonotebook import tqdm as notebook_tqdm\n"
          ]
        },
        {
          "data": {
            "text/plain": [
              "True"
            ]
          },
          "execution_count": 2,
          "metadata": {},
          "output_type": "execute_result"
        }
      ],
      "source": [
        "import torch\n",
        "# Check if any GPU is used\n",
        "\n",
        "torch.cuda.is_available()"
      ]
    },
    {
      "cell_type": "markdown",
      "metadata": {
        "id": "-P0foxjBDQSu"
      },
      "source": [
        "## Prepare the dataset\n",
        "\n",
        "Before starting the training, we need to load and process our dataset - but wait, let's decide which model we want to use first.  \n",
        "\n",
        "In the highly unlikely chance you've never heard of it, [BERT](https://arxiv.org/abs/1810.04805) (**B**idirectional **E**ncoder **R**epresentations from **T**ransformers) is a language model proposed by Google AI in 2018, and it's currently one of the most popular models used in NLP.  \n",
        "You can learn more about it here:\n",
        "- [BERT Explained: A Complete Guide with Theory and Tutorial](https://towardsml.com/2019/09/17/bert-explained-a-complete-guide-with-theory-and-tutorial/) by Samia, 2019.\n",
        "\n",
        "\n",
        "However, we will not directly use BERT in this tutorial, because it's large and takes too long to train. Instead, we'll be using [DistilBert](https://medium.com/huggingface/distilbert-8cf3380435b5), a version of BERT that while light-weight, reserves 95% of its original accuracy.\n",
        "\n",
        "\n"
      ]
    },
    {
      "cell_type": "code",
      "execution_count": 3,
      "metadata": {
        "id": "Lqb2cHCmDIEp"
      },
      "outputs": [],
      "source": [
        "# the model you want to use. Available models can be found here: https://huggingface.co/models\n",
        "MODEL_NAME = 'distilbert-base-uncased'"
      ]
    },
    {
      "cell_type": "markdown",
      "metadata": {
        "id": "QxSUKsTkDSxJ"
      },
      "source": [
        "### Load data\n",
        "\n",
        "Similar to the `transformers` library, `datasets` is also a package by huggingface. It contains many public datasets online and can help us with the data processing.  \n",
        "We can use `load_dataset` function to read the input `.csv` file provided for this assignment.\n",
        "\n",
        "Reference:\n",
        " - [Official datasets document](https://huggingface.co/docs/datasets)\n",
        " - [datasets.load_dataset](https://huggingface.co/docs/datasets/loading.html)"
      ]
    },
    {
      "cell_type": "code",
      "execution_count": 4,
      "metadata": {
        "id": "hjY9HMNIt5jf"
      },
      "outputs": [
        {
          "name": "stderr",
          "output_type": "stream",
          "text": [
            "Using custom data configuration data-2aa0c8c78d4e2ea2\n",
            "Found cached dataset csv (C:/Users/love4/.cache/huggingface/datasets/csv/data-2aa0c8c78d4e2ea2/0.0.0/6b34fb8fcf56f7c8ba51dc895bfa2bfbe43546f190a60fcf74bb5e8afdcc2317)\n",
            "100%|██████████| 2/2 [00:00<00:00, 154.91it/s]\n"
          ]
        }
      ],
      "source": [
        "# [ TODO ] load the data using the load_dataset function\n",
        "from datasets import load_dataset\n",
        "dataset = load_dataset(\"data\")"
      ]
    },
    {
      "cell_type": "code",
      "execution_count": 5,
      "metadata": {},
      "outputs": [
        {
          "name": "stderr",
          "output_type": "stream",
          "text": [
            "Loading cached processed dataset at C:/Users/love4/.cache/huggingface/datasets/csv/data-2aa0c8c78d4e2ea2/0.0.0/6b34fb8fcf56f7c8ba51dc895bfa2bfbe43546f190a60fcf74bb5e8afdcc2317\\cache-74188df31858a08d.arrow\n",
            "Loading cached processed dataset at C:/Users/love4/.cache/huggingface/datasets/csv/data-2aa0c8c78d4e2ea2/0.0.0/6b34fb8fcf56f7c8ba51dc895bfa2bfbe43546f190a60fcf74bb5e8afdcc2317\\cache-6ac0574c087480a3.arrow\n"
          ]
        },
        {
          "data": {
            "text/plain": [
              "DatasetDict({\n",
              "    train: Dataset({\n",
              "        features: ['text', 'level'],\n",
              "        num_rows: 20720\n",
              "    })\n",
              "    test: Dataset({\n",
              "        features: ['text', 'level'],\n",
              "        num_rows: 2300\n",
              "    })\n",
              "})"
            ]
          },
          "execution_count": 5,
          "metadata": {},
          "output_type": "execute_result"
        }
      ],
      "source": [
        "dataset.map(batched=False, with_indices=False)"
      ]
    },
    {
      "cell_type": "code",
      "execution_count": 6,
      "metadata": {},
      "outputs": [
        {
          "name": "stdout",
          "output_type": "stream",
          "text": [
            "Dataset({\n",
            "    features: ['text', 'level'],\n",
            "    num_rows: 20720\n",
            "})\n",
            "{'text': 'You can contact me by e-mail.', 'level': 'A1'}\n",
            "['My mother is having her car repaired.', 'You can contact me by e-mail.', 'He had a break for the weekend, and he called me: \"I am in London, so, if you want to see me, it\\'s the time!\"', \"Research shows that 40 percent of the program's viewers are aged over 55.\", \"I'd guess she's about my age.\"]\n"
          ]
        }
      ],
      "source": [
        "print(dataset['train'])\n",
        "print(dataset['train'][1])\n",
        "print(dataset['train']['text'][:5])"
      ]
    },
    {
      "cell_type": "markdown",
      "metadata": {
        "id": "E3olKw19uuJQ"
      },
      "source": [
        "### Preprocessing\n",
        "\n",
        "As always, texts should be tokenized, embedded, and padded before being put into the model.  \n",
        "But not to worry, there are libraries from huggingface to help with this, too."
      ]
    },
    {
      "cell_type": "markdown",
      "metadata": {
        "id": "x3ANJAV7wn2R"
      },
      "source": [
        "#### Sentence processing\n",
        "\n",
        "Different pre-trained language models may have their own preprocessing models, and that's why we should use the tokenizers trained along with that model. In our case, we are using distilBERT, so we should use the distilBERT tokenizer.  \n",
        "\n",
        "With huggingface, loading different tokenizers is extremely easy: just import the AutoTokenizer from `transformers` and tell it what model you plan to use, and it will handle everything for you.\n",
        "\n",
        "Reference:\n",
        " - [transformers.AutoTokenizer](https://huggingface.co/docs/transformers/master/en/model_doc/auto#transformers.AutoTokenizer)"
      ]
    },
    {
      "cell_type": "code",
      "execution_count": 6,
      "metadata": {},
      "outputs": [],
      "source": [
        "import transformers"
      ]
    },
    {
      "cell_type": "code",
      "execution_count": 7,
      "metadata": {
        "id": "DALrmSh6wpmy"
      },
      "outputs": [],
      "source": [
        "# [ TODO ] load the distilBERT tokenizer using AutoTokenizer\n",
        "\n",
        "tokenizer = transformers.AutoTokenizer.from_pretrained(MODEL_NAME)"
      ]
    },
    {
      "cell_type": "markdown",
      "metadata": {
        "id": "Jd43REmNxCOV"
      },
      "source": [
        "#### Label processing\n",
        "\n",
        "Our labels also need to be processed, so let's do that next.\n",
        "\n",
        "For this tutorial, we'll use the OneHotEncoder provided by scikit-learn.\n",
        "\n",
        "For now, just declare a new encoder and use `fit` to learn the data. Hint: you should still end up with 6 labels.\n",
        "\n",
        "Documents:\n",
        " - [sklearn.preprocessing.OneHotEncoder](https://scikit-learn.org/stable/modules/generated/sklearn.preprocessing.OneHotEncoder)"
      ]
    },
    {
      "cell_type": "code",
      "execution_count": 8,
      "metadata": {},
      "outputs": [],
      "source": [
        "from sklearn.preprocessing import OneHotEncoder"
      ]
    },
    {
      "cell_type": "code",
      "execution_count": 9,
      "metadata": {
        "id": "q3ml0_WxxFh5"
      },
      "outputs": [],
      "source": [
        "# [ TODO ] declare a new encoder and let it learn from the dataset\n",
        "\n",
        "encoder = OneHotEncoder()"
      ]
    },
    {
      "cell_type": "code",
      "execution_count": 10,
      "metadata": {},
      "outputs": [
        {
          "data": {
            "text/html": [
              "<style>#sk-container-id-1 {color: black;background-color: white;}#sk-container-id-1 pre{padding: 0;}#sk-container-id-1 div.sk-toggleable {background-color: white;}#sk-container-id-1 label.sk-toggleable__label {cursor: pointer;display: block;width: 100%;margin-bottom: 0;padding: 0.3em;box-sizing: border-box;text-align: center;}#sk-container-id-1 label.sk-toggleable__label-arrow:before {content: \"▸\";float: left;margin-right: 0.25em;color: #696969;}#sk-container-id-1 label.sk-toggleable__label-arrow:hover:before {color: black;}#sk-container-id-1 div.sk-estimator:hover label.sk-toggleable__label-arrow:before {color: black;}#sk-container-id-1 div.sk-toggleable__content {max-height: 0;max-width: 0;overflow: hidden;text-align: left;background-color: #f0f8ff;}#sk-container-id-1 div.sk-toggleable__content pre {margin: 0.2em;color: black;border-radius: 0.25em;background-color: #f0f8ff;}#sk-container-id-1 input.sk-toggleable__control:checked~div.sk-toggleable__content {max-height: 200px;max-width: 100%;overflow: auto;}#sk-container-id-1 input.sk-toggleable__control:checked~label.sk-toggleable__label-arrow:before {content: \"▾\";}#sk-container-id-1 div.sk-estimator input.sk-toggleable__control:checked~label.sk-toggleable__label {background-color: #d4ebff;}#sk-container-id-1 div.sk-label input.sk-toggleable__control:checked~label.sk-toggleable__label {background-color: #d4ebff;}#sk-container-id-1 input.sk-hidden--visually {border: 0;clip: rect(1px 1px 1px 1px);clip: rect(1px, 1px, 1px, 1px);height: 1px;margin: -1px;overflow: hidden;padding: 0;position: absolute;width: 1px;}#sk-container-id-1 div.sk-estimator {font-family: monospace;background-color: #f0f8ff;border: 1px dotted black;border-radius: 0.25em;box-sizing: border-box;margin-bottom: 0.5em;}#sk-container-id-1 div.sk-estimator:hover {background-color: #d4ebff;}#sk-container-id-1 div.sk-parallel-item::after {content: \"\";width: 100%;border-bottom: 1px solid gray;flex-grow: 1;}#sk-container-id-1 div.sk-label:hover label.sk-toggleable__label {background-color: #d4ebff;}#sk-container-id-1 div.sk-serial::before {content: \"\";position: absolute;border-left: 1px solid gray;box-sizing: border-box;top: 0;bottom: 0;left: 50%;z-index: 0;}#sk-container-id-1 div.sk-serial {display: flex;flex-direction: column;align-items: center;background-color: white;padding-right: 0.2em;padding-left: 0.2em;position: relative;}#sk-container-id-1 div.sk-item {position: relative;z-index: 1;}#sk-container-id-1 div.sk-parallel {display: flex;align-items: stretch;justify-content: center;background-color: white;position: relative;}#sk-container-id-1 div.sk-item::before, #sk-container-id-1 div.sk-parallel-item::before {content: \"\";position: absolute;border-left: 1px solid gray;box-sizing: border-box;top: 0;bottom: 0;left: 50%;z-index: -1;}#sk-container-id-1 div.sk-parallel-item {display: flex;flex-direction: column;z-index: 1;position: relative;background-color: white;}#sk-container-id-1 div.sk-parallel-item:first-child::after {align-self: flex-end;width: 50%;}#sk-container-id-1 div.sk-parallel-item:last-child::after {align-self: flex-start;width: 50%;}#sk-container-id-1 div.sk-parallel-item:only-child::after {width: 0;}#sk-container-id-1 div.sk-dashed-wrapped {border: 1px dashed gray;margin: 0 0.4em 0.5em 0.4em;box-sizing: border-box;padding-bottom: 0.4em;background-color: white;}#sk-container-id-1 div.sk-label label {font-family: monospace;font-weight: bold;display: inline-block;line-height: 1.2em;}#sk-container-id-1 div.sk-label-container {text-align: center;}#sk-container-id-1 div.sk-container {/* jupyter's `normalize.less` sets `[hidden] { display: none; }` but bootstrap.min.css set `[hidden] { display: none !important; }` so we also need the `!important` here to be able to override the default hidden behavior on the sphinx rendered scikit-learn.org. See: https://github.com/scikit-learn/scikit-learn/issues/21755 */display: inline-block !important;position: relative;}#sk-container-id-1 div.sk-text-repr-fallback {display: none;}</style><div id=\"sk-container-id-1\" class=\"sk-top-container\"><div class=\"sk-text-repr-fallback\"><pre>OneHotEncoder()</pre><b>In a Jupyter environment, please rerun this cell to show the HTML representation or trust the notebook. <br />On GitHub, the HTML representation is unable to render, please try loading this page with nbviewer.org.</b></div><div class=\"sk-container\" hidden><div class=\"sk-item\"><div class=\"sk-estimator sk-toggleable\"><input class=\"sk-toggleable__control sk-hidden--visually\" id=\"sk-estimator-id-1\" type=\"checkbox\" checked><label for=\"sk-estimator-id-1\" class=\"sk-toggleable__label sk-toggleable__label-arrow\">OneHotEncoder</label><div class=\"sk-toggleable__content\"><pre>OneHotEncoder()</pre></div></div></div></div></div>"
            ],
            "text/plain": [
              "OneHotEncoder()"
            ]
          },
          "execution_count": 10,
          "metadata": {},
          "output_type": "execute_result"
        }
      ],
      "source": [
        "import numpy as np\n",
        "encoder.fit(np.array(dataset.data[\"train\"][\"level\"]).reshape(-1, 1))"
      ]
    },
    {
      "cell_type": "code",
      "execution_count": 11,
      "metadata": {
        "colab": {
          "base_uri": "https://localhost:8080/"
        },
        "id": "BRY2GDJa1MxF",
        "outputId": "df210570-a2f8-478d-8902-e6f6c4f33af5"
      },
      "outputs": [
        {
          "name": "stdout",
          "output_type": "stream",
          "text": [
            "6\n"
          ]
        }
      ],
      "source": [
        "# check if you still have 6 labels\n",
        "LABEL_COUNT = len(encoder.categories_[0])\n",
        "print(LABEL_COUNT)"
      ]
    },
    {
      "cell_type": "markdown",
      "metadata": {
        "id": "qrfO8c4R1eWO"
      },
      "source": [
        "#### Process the data\n",
        "\n",
        "To make things easier, we can write a function to process our dataset in batches. "
      ]
    },
    {
      "cell_type": "code",
      "execution_count": 12,
      "metadata": {
        "id": "cvwnYLah1dbN"
      },
      "outputs": [],
      "source": [
        "def preprocess(dataslice):\n",
        "    \n",
        "    \"\"\" Input: a batch of your dataset\n",
        "        Example: { 'text': [['sentence1'], ['setence2'], ...],\n",
        "                   'label': ['label1', 'label2', ...] }\n",
        "    \"\"\"\n",
        "    \n",
        "    # [ TODO ] use your tokenizor and encoder to get sentence embeddings and encoded labels\n",
        "    output = tokenizer(dataslice['text'], truncation=True, padding=True, return_tensors=\"pt\")\n",
        "    \n",
        "    # print({'label':encoder.transform(np.array(dataslice['level']).reshape(-1, 1)).toarray()})\n",
        "    output.update({'label':encoder.transform(np.array(dataslice['level']).reshape(-1, 1)).toarray()})\n",
        "    return output\n",
        "    \"\"\" Output: a batch of processed dataset\n",
        "        Example: { 'input_ids': ...,\n",
        "                   'attention_masks': ...,\n",
        "                   'label': ... }\n",
        "    \"\"\""
      ]
    },
    {
      "cell_type": "code",
      "execution_count": 13,
      "metadata": {
        "id": "Nr0-Y1bR2efQ"
      },
      "outputs": [
        {
          "name": "stderr",
          "output_type": "stream",
          "text": [
            "Loading cached processed dataset at C:/Users/love4/.cache/huggingface/datasets/csv/data-2aa0c8c78d4e2ea2/0.0.0/6b34fb8fcf56f7c8ba51dc895bfa2bfbe43546f190a60fcf74bb5e8afdcc2317\\cache-6bd6e1a4adb69a45.arrow\n",
            "Loading cached processed dataset at C:/Users/love4/.cache/huggingface/datasets/csv/data-2aa0c8c78d4e2ea2/0.0.0/6b34fb8fcf56f7c8ba51dc895bfa2bfbe43546f190a60fcf74bb5e8afdcc2317\\cache-2f00b6dbd2146cb4.arrow\n"
          ]
        }
      ],
      "source": [
        "# map the function to the whole dataset\n",
        "processed_data = dataset.map(preprocess,    # your processing function\n",
        "                             batched = True # Process in batches so it can be faster\n",
        "                            )"
      ]
    },
    {
      "cell_type": "code",
      "execution_count": 14,
      "metadata": {},
      "outputs": [
        {
          "name": "stdout",
          "output_type": "stream",
          "text": [
            "DatasetDict({\n",
            "    train: Dataset({\n",
            "        features: ['text', 'level', 'input_ids', 'attention_mask', 'label'],\n",
            "        num_rows: 20720\n",
            "    })\n",
            "    test: Dataset({\n",
            "        features: ['text', 'level', 'input_ids', 'attention_mask', 'label'],\n",
            "        num_rows: 2300\n",
            "    })\n",
            "})\n"
          ]
        },
        {
          "data": {
            "text/plain": [
              "{'text': 'My mother is having her car repaired.',\n",
              " 'level': 'B1',\n",
              " 'input_ids': [101,\n",
              "  2026,\n",
              "  2388,\n",
              "  2003,\n",
              "  2383,\n",
              "  2014,\n",
              "  2482,\n",
              "  13671,\n",
              "  1012,\n",
              "  102,\n",
              "  0,\n",
              "  0,\n",
              "  0,\n",
              "  0,\n",
              "  0,\n",
              "  0,\n",
              "  0,\n",
              "  0,\n",
              "  0,\n",
              "  0,\n",
              "  0,\n",
              "  0,\n",
              "  0,\n",
              "  0,\n",
              "  0,\n",
              "  0,\n",
              "  0,\n",
              "  0,\n",
              "  0,\n",
              "  0,\n",
              "  0,\n",
              "  0,\n",
              "  0,\n",
              "  0,\n",
              "  0,\n",
              "  0,\n",
              "  0,\n",
              "  0,\n",
              "  0,\n",
              "  0,\n",
              "  0,\n",
              "  0,\n",
              "  0,\n",
              "  0,\n",
              "  0,\n",
              "  0,\n",
              "  0,\n",
              "  0,\n",
              "  0,\n",
              "  0,\n",
              "  0,\n",
              "  0,\n",
              "  0,\n",
              "  0,\n",
              "  0,\n",
              "  0,\n",
              "  0,\n",
              "  0,\n",
              "  0,\n",
              "  0,\n",
              "  0,\n",
              "  0,\n",
              "  0,\n",
              "  0,\n",
              "  0,\n",
              "  0,\n",
              "  0,\n",
              "  0,\n",
              "  0,\n",
              "  0,\n",
              "  0,\n",
              "  0,\n",
              "  0,\n",
              "  0,\n",
              "  0,\n",
              "  0,\n",
              "  0,\n",
              "  0,\n",
              "  0,\n",
              "  0,\n",
              "  0],\n",
              " 'attention_mask': [1,\n",
              "  1,\n",
              "  1,\n",
              "  1,\n",
              "  1,\n",
              "  1,\n",
              "  1,\n",
              "  1,\n",
              "  1,\n",
              "  1,\n",
              "  0,\n",
              "  0,\n",
              "  0,\n",
              "  0,\n",
              "  0,\n",
              "  0,\n",
              "  0,\n",
              "  0,\n",
              "  0,\n",
              "  0,\n",
              "  0,\n",
              "  0,\n",
              "  0,\n",
              "  0,\n",
              "  0,\n",
              "  0,\n",
              "  0,\n",
              "  0,\n",
              "  0,\n",
              "  0,\n",
              "  0,\n",
              "  0,\n",
              "  0,\n",
              "  0,\n",
              "  0,\n",
              "  0,\n",
              "  0,\n",
              "  0,\n",
              "  0,\n",
              "  0,\n",
              "  0,\n",
              "  0,\n",
              "  0,\n",
              "  0,\n",
              "  0,\n",
              "  0,\n",
              "  0,\n",
              "  0,\n",
              "  0,\n",
              "  0,\n",
              "  0,\n",
              "  0,\n",
              "  0,\n",
              "  0,\n",
              "  0,\n",
              "  0,\n",
              "  0,\n",
              "  0,\n",
              "  0,\n",
              "  0,\n",
              "  0,\n",
              "  0,\n",
              "  0,\n",
              "  0,\n",
              "  0,\n",
              "  0,\n",
              "  0,\n",
              "  0,\n",
              "  0,\n",
              "  0,\n",
              "  0,\n",
              "  0,\n",
              "  0,\n",
              "  0,\n",
              "  0,\n",
              "  0,\n",
              "  0,\n",
              "  0,\n",
              "  0,\n",
              "  0,\n",
              "  0],\n",
              " 'label': [0.0, 0.0, 1.0, 0.0, 0.0, 0.0]}"
            ]
          },
          "execution_count": 14,
          "metadata": {},
          "output_type": "execute_result"
        }
      ],
      "source": [
        "print(processed_data)\n",
        "processed_data['train'][0]"
      ]
    },
    {
      "cell_type": "markdown",
      "metadata": {
        "id": "G9z7ZMtP22b9"
      },
      "source": [
        "### DataCollator\n",
        "\n",
        "You might have noticed that we skipped padding the sentences. That's because we are going to do it during training.  \n",
        "\n",
        "To do training-time processing, we can use the DataCollator Class provided by `transformers`. And guess what - transformers has a class that will handle padding for us, too!\n",
        "\n",
        " - [transformers.DataCollatorWithPadding](https://huggingface.co/docs/transformers/master/en/main_classes/data_collator#transformers.DataCollatorWithPadding)"
      ]
    },
    {
      "cell_type": "code",
      "execution_count": 15,
      "metadata": {
        "id": "x5orGYjN39dz"
      },
      "outputs": [],
      "source": [
        "# [ TODO ] declare a collator to do padding during traning\n",
        "from transformers import DataCollatorWithPadding\n",
        "data_collator =  DataCollatorWithPadding(tokenizer=tokenizer)"
      ]
    },
    {
      "cell_type": "markdown",
      "metadata": {
        "id": "di75QVgv4V81"
      },
      "source": [
        "## Training\n",
        "\n",
        "Finally, we can move on to training."
      ]
    },
    {
      "cell_type": "markdown",
      "metadata": {
        "id": "53dO3pg85u0n"
      },
      "source": [
        "### Preparation\n",
        "\n",
        "We can load the pretrained model from `transformers`.  \n",
        "Generally, you need to build your own model on top of BERT if you want to use BERT for some downstream tasks, but again, sequence classification is a popular topic. With the support from `transformers` library, it can be done in two lines of codes: \n",
        "\n",
        "1. Load `AutoModelForSequenceClassification` Class.\n",
        "2. Load the pretrained model."
      ]
    },
    {
      "cell_type": "code",
      "execution_count": 16,
      "metadata": {
        "id": "UyDyv7wp5qdD"
      },
      "outputs": [
        {
          "name": "stderr",
          "output_type": "stream",
          "text": [
            "Some weights of the model checkpoint at distilbert-base-uncased were not used when initializing DistilBertForSequenceClassification: ['vocab_transform.bias', 'vocab_layer_norm.weight', 'vocab_projector.weight', 'vocab_transform.weight', 'vocab_projector.bias', 'vocab_layer_norm.bias']\n",
            "- This IS expected if you are initializing DistilBertForSequenceClassification from the checkpoint of a model trained on another task or with another architecture (e.g. initializing a BertForSequenceClassification model from a BertForPreTraining model).\n",
            "- This IS NOT expected if you are initializing DistilBertForSequenceClassification from the checkpoint of a model that you expect to be exactly identical (initializing a BertForSequenceClassification model from a BertForSequenceClassification model).\n",
            "Some weights of DistilBertForSequenceClassification were not initialized from the model checkpoint at distilbert-base-uncased and are newly initialized: ['pre_classifier.bias', 'classifier.bias', 'classifier.weight', 'pre_classifier.weight']\n",
            "You should probably TRAIN this model on a down-stream task to be able to use it for predictions and inference.\n"
          ]
        }
      ],
      "source": [
        "from transformers import AutoModelForSequenceClassification\n",
        "\n",
        "model = AutoModelForSequenceClassification.from_pretrained('distilbert-base-uncased',\n",
        "                                                           num_labels = LABEL_COUNT)"
      ]
    },
    {
      "cell_type": "markdown",
      "metadata": {
        "id": "DtmP4TEh6XiB"
      },
      "source": [
        "#### Split train/val data\n",
        "\n",
        "The `Dataset` class we prepared before has a `train_test_split` method. You can use it to split your (processed) dataset.\n",
        "\n",
        "Document:\n",
        " - [datasets.Dataset - Sort, shuffle, select, split, and shard](https://huggingface.co/docs/datasets/process.html#sort-shuffle-select-split-and-shard)"
      ]
    },
    {
      "cell_type": "code",
      "execution_count": 17,
      "metadata": {
        "id": "NnbD1KW16YWn"
      },
      "outputs": [],
      "source": [
        "# [ TODO ] choose a validation size and split your data\n",
        "train_val_dataset = processed_data['train'].train_test_split(test_size=0.1)"
      ]
    },
    {
      "cell_type": "code",
      "execution_count": 18,
      "metadata": {},
      "outputs": [
        {
          "name": "stdout",
          "output_type": "stream",
          "text": [
            "DatasetDict({\n",
            "    train: Dataset({\n",
            "        features: ['text', 'level', 'input_ids', 'attention_mask', 'label'],\n",
            "        num_rows: 18648\n",
            "    })\n",
            "    test: Dataset({\n",
            "        features: ['text', 'level', 'input_ids', 'attention_mask', 'label'],\n",
            "        num_rows: 2072\n",
            "    })\n",
            "})\n"
          ]
        }
      ],
      "source": [
        "print(train_val_dataset)"
      ]
    },
    {
      "cell_type": "markdown",
      "metadata": {
        "id": "YzmSbOaD7O0F"
      },
      "source": [
        "#### Setup training parameters\n",
        "\n",
        "We are using the TrainerAPI to do the training. Trainer is yet another utility provided by huggingface, which helps you train the model with ease.  \n",
        "\n",
        "Document:\n",
        "- [transformers.TrainingArguments](https://huggingface.co/docs/transformers/master/en/main_classes/trainer#transformers.TrainingArguments)\n",
        "- [transformers.Trainer](https://huggingface.co/docs/transformers/master/en/main_classes/trainer#transformers.Trainer)"
      ]
    },
    {
      "cell_type": "code",
      "execution_count": 19,
      "metadata": {
        "id": "ABqlinlO76Ax"
      },
      "outputs": [],
      "source": [
        "from transformers import TrainingArguments, Trainer"
      ]
    },
    {
      "cell_type": "code",
      "execution_count": 20,
      "metadata": {
        "id": "5lzXTG1y7q7n"
      },
      "outputs": [],
      "source": [
        "# [ TODO ] set and tune your training properties\n",
        "OUTPUT_DIR = './model/'\n",
        "LEARNING_RATE = 0.00001\n",
        "BATCH_SIZE = 64\n",
        "EPOCH = 50\n",
        "training_args = TrainingArguments(\n",
        "    output_dir = OUTPUT_DIR,\n",
        "    learning_rate = LEARNING_RATE,\n",
        "    per_device_train_batch_size = BATCH_SIZE,\n",
        "    per_device_eval_batch_size = BATCH_SIZE,\n",
        "    num_train_epochs = EPOCH,\n",
        "    # you can set more parameters here if you want\n",
        ")\n",
        "\n",
        "# now give all the information to a trainer\n",
        "trainer = Trainer(\n",
        "    model=model,\n",
        "    args=training_args,\n",
        "    data_collator=data_collator,\n",
        "    train_dataset=train_val_dataset['train'],\n",
        "    eval_dataset=train_val_dataset['test'],\n",
        "    tokenizer=tokenizer,\n",
        "    # set your parameters here\n",
        "\n",
        ")"
      ]
    },
    {
      "cell_type": "markdown",
      "metadata": {
        "id": "gE0DpS3s7rhg"
      },
      "source": [
        "### Training\n",
        "\n",
        "This is the easy part. Simply ask the trainer to train the model for you!"
      ]
    },
    {
      "cell_type": "code",
      "execution_count": 21,
      "metadata": {
        "id": "wsrQOyJCiFas"
      },
      "outputs": [
        {
          "name": "stderr",
          "output_type": "stream",
          "text": [
            "The following columns in the training set don't have a corresponding argument in `DistilBertForSequenceClassification.forward` and have been ignored: level, text. If level, text are not expected by `DistilBertForSequenceClassification.forward`,  you can safely ignore this message.\n",
            "c:\\Users\\love4\\anaconda3\\envs\\pytorch\\lib\\site-packages\\transformers\\optimization.py:306: FutureWarning: This implementation of AdamW is deprecated and will be removed in a future version. Use the PyTorch implementation torch.optim.AdamW instead, or set `no_deprecation_warning=True` to disable this warning\n",
            "  warnings.warn(\n",
            "***** Running training *****\n",
            "  Num examples = 18648\n",
            "  Num Epochs = 50\n",
            "  Instantaneous batch size per device = 64\n",
            "  Total train batch size (w. parallel, distributed & accumulation) = 64\n",
            "  Gradient Accumulation steps = 1\n",
            "  Total optimization steps = 14600\n",
            "  Number of trainable parameters = 66958086\n",
            "  0%|          | 0/14600 [00:00<?, ?it/s]You're using a DistilBertTokenizerFast tokenizer. Please note that with a fast tokenizer, using the `__call__` method is faster than using a method to encode the text followed by a call to the `pad` method to get a padded encoding.\n",
            "  3%|▎         | 500/14600 [01:35<41:39,  5.64it/s] Saving model checkpoint to ./model/checkpoint-500\n",
            "Configuration saved in ./model/checkpoint-500\\config.json\n"
          ]
        },
        {
          "name": "stdout",
          "output_type": "stream",
          "text": [
            "{'loss': 0.3944, 'learning_rate': 9.657534246575343e-06, 'epoch': 1.71}\n"
          ]
        },
        {
          "name": "stderr",
          "output_type": "stream",
          "text": [
            "Model weights saved in ./model/checkpoint-500\\pytorch_model.bin\n",
            "tokenizer config file saved in ./model/checkpoint-500\\tokenizer_config.json\n",
            "Special tokens file saved in ./model/checkpoint-500\\special_tokens_map.json\n",
            "  7%|▋         | 1000/14600 [03:08<43:11,  5.25it/s] Saving model checkpoint to ./model/checkpoint-1000\n",
            "Configuration saved in ./model/checkpoint-1000\\config.json\n"
          ]
        },
        {
          "name": "stdout",
          "output_type": "stream",
          "text": [
            "{'loss': 0.3178, 'learning_rate': 9.315068493150685e-06, 'epoch': 3.42}\n"
          ]
        },
        {
          "name": "stderr",
          "output_type": "stream",
          "text": [
            "Model weights saved in ./model/checkpoint-1000\\pytorch_model.bin\n",
            "tokenizer config file saved in ./model/checkpoint-1000\\tokenizer_config.json\n",
            "Special tokens file saved in ./model/checkpoint-1000\\special_tokens_map.json\n",
            " 10%|█         | 1500/14600 [04:42<41:03,  5.32it/s]  Saving model checkpoint to ./model/checkpoint-1500\n",
            "Configuration saved in ./model/checkpoint-1500\\config.json\n"
          ]
        },
        {
          "name": "stdout",
          "output_type": "stream",
          "text": [
            "{'loss': 0.2765, 'learning_rate': 8.972602739726028e-06, 'epoch': 5.14}\n"
          ]
        },
        {
          "name": "stderr",
          "output_type": "stream",
          "text": [
            "Model weights saved in ./model/checkpoint-1500\\pytorch_model.bin\n",
            "tokenizer config file saved in ./model/checkpoint-1500\\tokenizer_config.json\n",
            "Special tokens file saved in ./model/checkpoint-1500\\special_tokens_map.json\n",
            " 14%|█▎        | 2000/14600 [06:16<39:28,  5.32it/s]  Saving model checkpoint to ./model/checkpoint-2000\n",
            "Configuration saved in ./model/checkpoint-2000\\config.json\n"
          ]
        },
        {
          "name": "stdout",
          "output_type": "stream",
          "text": [
            "{'loss': 0.2362, 'learning_rate': 8.63013698630137e-06, 'epoch': 6.85}\n"
          ]
        },
        {
          "name": "stderr",
          "output_type": "stream",
          "text": [
            "Model weights saved in ./model/checkpoint-2000\\pytorch_model.bin\n",
            "tokenizer config file saved in ./model/checkpoint-2000\\tokenizer_config.json\n",
            "Special tokens file saved in ./model/checkpoint-2000\\special_tokens_map.json\n",
            " 17%|█▋        | 2500/14600 [07:49<38:02,  5.30it/s]  Saving model checkpoint to ./model/checkpoint-2500\n",
            "Configuration saved in ./model/checkpoint-2500\\config.json\n"
          ]
        },
        {
          "name": "stdout",
          "output_type": "stream",
          "text": [
            "{'loss': 0.1995, 'learning_rate': 8.287671232876712e-06, 'epoch': 8.56}\n"
          ]
        },
        {
          "name": "stderr",
          "output_type": "stream",
          "text": [
            "Model weights saved in ./model/checkpoint-2500\\pytorch_model.bin\n",
            "tokenizer config file saved in ./model/checkpoint-2500\\tokenizer_config.json\n",
            "Special tokens file saved in ./model/checkpoint-2500\\special_tokens_map.json\n",
            " 21%|██        | 3000/14600 [09:23<36:21,  5.32it/s]  Saving model checkpoint to ./model/checkpoint-3000\n",
            "Configuration saved in ./model/checkpoint-3000\\config.json\n"
          ]
        },
        {
          "name": "stdout",
          "output_type": "stream",
          "text": [
            "{'loss': 0.1697, 'learning_rate': 7.945205479452055e-06, 'epoch': 10.27}\n"
          ]
        },
        {
          "name": "stderr",
          "output_type": "stream",
          "text": [
            "Model weights saved in ./model/checkpoint-3000\\pytorch_model.bin\n",
            "tokenizer config file saved in ./model/checkpoint-3000\\tokenizer_config.json\n",
            "Special tokens file saved in ./model/checkpoint-3000\\special_tokens_map.json\n",
            " 24%|██▍       | 3500/14600 [10:57<34:52,  5.31it/s]  Saving model checkpoint to ./model/checkpoint-3500\n",
            "Configuration saved in ./model/checkpoint-3500\\config.json\n"
          ]
        },
        {
          "name": "stdout",
          "output_type": "stream",
          "text": [
            "{'loss': 0.1456, 'learning_rate': 7.6027397260273985e-06, 'epoch': 11.99}\n"
          ]
        },
        {
          "name": "stderr",
          "output_type": "stream",
          "text": [
            "Model weights saved in ./model/checkpoint-3500\\pytorch_model.bin\n",
            "tokenizer config file saved in ./model/checkpoint-3500\\tokenizer_config.json\n",
            "Special tokens file saved in ./model/checkpoint-3500\\special_tokens_map.json\n",
            " 27%|██▋       | 4000/14600 [12:30<33:26,  5.28it/s]  Saving model checkpoint to ./model/checkpoint-4000\n",
            "Configuration saved in ./model/checkpoint-4000\\config.json\n"
          ]
        },
        {
          "name": "stdout",
          "output_type": "stream",
          "text": [
            "{'loss': 0.1234, 'learning_rate': 7.260273972602741e-06, 'epoch': 13.7}\n"
          ]
        },
        {
          "name": "stderr",
          "output_type": "stream",
          "text": [
            "Model weights saved in ./model/checkpoint-4000\\pytorch_model.bin\n",
            "tokenizer config file saved in ./model/checkpoint-4000\\tokenizer_config.json\n",
            "Special tokens file saved in ./model/checkpoint-4000\\special_tokens_map.json\n",
            " 31%|███       | 4500/14600 [14:04<30:40,  5.49it/s]  Saving model checkpoint to ./model/checkpoint-4500\n",
            "Configuration saved in ./model/checkpoint-4500\\config.json\n"
          ]
        },
        {
          "name": "stdout",
          "output_type": "stream",
          "text": [
            "{'loss': 0.1063, 'learning_rate': 6.917808219178082e-06, 'epoch': 15.41}\n"
          ]
        },
        {
          "name": "stderr",
          "output_type": "stream",
          "text": [
            "Model weights saved in ./model/checkpoint-4500\\pytorch_model.bin\n",
            "tokenizer config file saved in ./model/checkpoint-4500\\tokenizer_config.json\n",
            "Special tokens file saved in ./model/checkpoint-4500\\special_tokens_map.json\n",
            " 34%|███▍      | 5000/14600 [15:38<29:14,  5.47it/s]  Saving model checkpoint to ./model/checkpoint-5000\n",
            "Configuration saved in ./model/checkpoint-5000\\config.json\n"
          ]
        },
        {
          "name": "stdout",
          "output_type": "stream",
          "text": [
            "{'loss': 0.0924, 'learning_rate': 6.5753424657534245e-06, 'epoch': 17.12}\n"
          ]
        },
        {
          "name": "stderr",
          "output_type": "stream",
          "text": [
            "Model weights saved in ./model/checkpoint-5000\\pytorch_model.bin\n",
            "tokenizer config file saved in ./model/checkpoint-5000\\tokenizer_config.json\n",
            "Special tokens file saved in ./model/checkpoint-5000\\special_tokens_map.json\n",
            " 38%|███▊      | 5500/14600 [17:08<27:01,  5.61it/s]  Saving model checkpoint to ./model/checkpoint-5500\n",
            "Configuration saved in ./model/checkpoint-5500\\config.json\n"
          ]
        },
        {
          "name": "stdout",
          "output_type": "stream",
          "text": [
            "{'loss': 0.0792, 'learning_rate': 6.2328767123287685e-06, 'epoch': 18.84}\n"
          ]
        },
        {
          "name": "stderr",
          "output_type": "stream",
          "text": [
            "Model weights saved in ./model/checkpoint-5500\\pytorch_model.bin\n",
            "tokenizer config file saved in ./model/checkpoint-5500\\tokenizer_config.json\n",
            "Special tokens file saved in ./model/checkpoint-5500\\special_tokens_map.json\n",
            " 41%|████      | 6000/14600 [18:39<25:58,  5.52it/s]  Saving model checkpoint to ./model/checkpoint-6000\n",
            "Configuration saved in ./model/checkpoint-6000\\config.json\n"
          ]
        },
        {
          "name": "stdout",
          "output_type": "stream",
          "text": [
            "{'loss': 0.0665, 'learning_rate': 5.89041095890411e-06, 'epoch': 20.55}\n"
          ]
        },
        {
          "name": "stderr",
          "output_type": "stream",
          "text": [
            "Model weights saved in ./model/checkpoint-6000\\pytorch_model.bin\n",
            "tokenizer config file saved in ./model/checkpoint-6000\\tokenizer_config.json\n",
            "Special tokens file saved in ./model/checkpoint-6000\\special_tokens_map.json\n",
            " 45%|████▍     | 6500/14600 [20:13<23:44,  5.69it/s]  Saving model checkpoint to ./model/checkpoint-6500\n",
            "Configuration saved in ./model/checkpoint-6500\\config.json\n"
          ]
        },
        {
          "name": "stdout",
          "output_type": "stream",
          "text": [
            "{'loss': 0.0609, 'learning_rate': 5.547945205479452e-06, 'epoch': 22.26}\n"
          ]
        },
        {
          "name": "stderr",
          "output_type": "stream",
          "text": [
            "Model weights saved in ./model/checkpoint-6500\\pytorch_model.bin\n",
            "tokenizer config file saved in ./model/checkpoint-6500\\tokenizer_config.json\n",
            "Special tokens file saved in ./model/checkpoint-6500\\special_tokens_map.json\n",
            " 48%|████▊     | 7000/14600 [21:47<24:00,  5.28it/s]  Saving model checkpoint to ./model/checkpoint-7000\n",
            "Configuration saved in ./model/checkpoint-7000\\config.json\n"
          ]
        },
        {
          "name": "stdout",
          "output_type": "stream",
          "text": [
            "{'loss': 0.0537, 'learning_rate': 5.2054794520547945e-06, 'epoch': 23.97}\n"
          ]
        },
        {
          "name": "stderr",
          "output_type": "stream",
          "text": [
            "Model weights saved in ./model/checkpoint-7000\\pytorch_model.bin\n",
            "tokenizer config file saved in ./model/checkpoint-7000\\tokenizer_config.json\n",
            "Special tokens file saved in ./model/checkpoint-7000\\special_tokens_map.json\n",
            " 51%|█████▏    | 7500/14600 [23:20<21:47,  5.43it/s]  Saving model checkpoint to ./model/checkpoint-7500\n",
            "Configuration saved in ./model/checkpoint-7500\\config.json\n"
          ]
        },
        {
          "name": "stdout",
          "output_type": "stream",
          "text": [
            "{'loss': 0.0471, 'learning_rate': 4.863013698630138e-06, 'epoch': 25.68}\n"
          ]
        },
        {
          "name": "stderr",
          "output_type": "stream",
          "text": [
            "Model weights saved in ./model/checkpoint-7500\\pytorch_model.bin\n",
            "tokenizer config file saved in ./model/checkpoint-7500\\tokenizer_config.json\n",
            "Special tokens file saved in ./model/checkpoint-7500\\special_tokens_map.json\n",
            " 55%|█████▍    | 8000/14600 [24:54<20:35,  5.34it/s]Saving model checkpoint to ./model/checkpoint-8000\n",
            "Configuration saved in ./model/checkpoint-8000\\config.json\n"
          ]
        },
        {
          "name": "stdout",
          "output_type": "stream",
          "text": [
            "{'loss': 0.041, 'learning_rate': 4.52054794520548e-06, 'epoch': 27.4}\n"
          ]
        },
        {
          "name": "stderr",
          "output_type": "stream",
          "text": [
            "Model weights saved in ./model/checkpoint-8000\\pytorch_model.bin\n",
            "tokenizer config file saved in ./model/checkpoint-8000\\tokenizer_config.json\n",
            "Special tokens file saved in ./model/checkpoint-8000\\special_tokens_map.json\n",
            " 58%|█████▊    | 8500/14600 [26:28<19:02,  5.34it/s]Saving model checkpoint to ./model/checkpoint-8500\n",
            "Configuration saved in ./model/checkpoint-8500\\config.json\n"
          ]
        },
        {
          "name": "stdout",
          "output_type": "stream",
          "text": [
            "{'loss': 0.0366, 'learning_rate': 4.178082191780822e-06, 'epoch': 29.11}\n"
          ]
        },
        {
          "name": "stderr",
          "output_type": "stream",
          "text": [
            "Model weights saved in ./model/checkpoint-8500\\pytorch_model.bin\n",
            "tokenizer config file saved in ./model/checkpoint-8500\\tokenizer_config.json\n",
            "Special tokens file saved in ./model/checkpoint-8500\\special_tokens_map.json\n",
            " 62%|██████▏   | 9000/14600 [28:01<17:42,  5.27it/s]Saving model checkpoint to ./model/checkpoint-9000\n",
            "Configuration saved in ./model/checkpoint-9000\\config.json\n"
          ]
        },
        {
          "name": "stdout",
          "output_type": "stream",
          "text": [
            "{'loss': 0.0345, 'learning_rate': 3.8356164383561645e-06, 'epoch': 30.82}\n"
          ]
        },
        {
          "name": "stderr",
          "output_type": "stream",
          "text": [
            "Model weights saved in ./model/checkpoint-9000\\pytorch_model.bin\n",
            "tokenizer config file saved in ./model/checkpoint-9000\\tokenizer_config.json\n",
            "Special tokens file saved in ./model/checkpoint-9000\\special_tokens_map.json\n",
            " 65%|██████▌   | 9500/14600 [29:29<15:02,  5.65it/s]Saving model checkpoint to ./model/checkpoint-9500\n",
            "Configuration saved in ./model/checkpoint-9500\\config.json\n"
          ]
        },
        {
          "name": "stdout",
          "output_type": "stream",
          "text": [
            "{'loss': 0.0292, 'learning_rate': 3.4931506849315072e-06, 'epoch': 32.53}\n"
          ]
        },
        {
          "name": "stderr",
          "output_type": "stream",
          "text": [
            "Model weights saved in ./model/checkpoint-9500\\pytorch_model.bin\n",
            "tokenizer config file saved in ./model/checkpoint-9500\\tokenizer_config.json\n",
            "Special tokens file saved in ./model/checkpoint-9500\\special_tokens_map.json\n",
            " 68%|██████▊   | 10000/14600 [30:56<13:27,  5.69it/s]Saving model checkpoint to ./model/checkpoint-10000\n",
            "Configuration saved in ./model/checkpoint-10000\\config.json\n"
          ]
        },
        {
          "name": "stdout",
          "output_type": "stream",
          "text": [
            "{'loss': 0.0274, 'learning_rate': 3.1506849315068495e-06, 'epoch': 34.25}\n"
          ]
        },
        {
          "name": "stderr",
          "output_type": "stream",
          "text": [
            "Model weights saved in ./model/checkpoint-10000\\pytorch_model.bin\n",
            "tokenizer config file saved in ./model/checkpoint-10000\\tokenizer_config.json\n",
            "Special tokens file saved in ./model/checkpoint-10000\\special_tokens_map.json\n",
            " 72%|███████▏  | 10500/14600 [32:25<10:04,  6.78it/s]Saving model checkpoint to ./model/checkpoint-10500\n",
            "Configuration saved in ./model/checkpoint-10500\\config.json\n"
          ]
        },
        {
          "name": "stdout",
          "output_type": "stream",
          "text": [
            "{'loss': 0.0248, 'learning_rate': 2.8082191780821922e-06, 'epoch': 35.96}\n"
          ]
        },
        {
          "name": "stderr",
          "output_type": "stream",
          "text": [
            "Model weights saved in ./model/checkpoint-10500\\pytorch_model.bin\n",
            "tokenizer config file saved in ./model/checkpoint-10500\\tokenizer_config.json\n",
            "Special tokens file saved in ./model/checkpoint-10500\\special_tokens_map.json\n",
            " 75%|███████▌  | 11000/14600 [33:52<10:21,  5.80it/s]Saving model checkpoint to ./model/checkpoint-11000\n",
            "Configuration saved in ./model/checkpoint-11000\\config.json\n"
          ]
        },
        {
          "name": "stdout",
          "output_type": "stream",
          "text": [
            "{'loss': 0.0225, 'learning_rate': 2.4657534246575345e-06, 'epoch': 37.67}\n"
          ]
        },
        {
          "name": "stderr",
          "output_type": "stream",
          "text": [
            "Model weights saved in ./model/checkpoint-11000\\pytorch_model.bin\n",
            "tokenizer config file saved in ./model/checkpoint-11000\\tokenizer_config.json\n",
            "Special tokens file saved in ./model/checkpoint-11000\\special_tokens_map.json\n",
            " 79%|███████▉  | 11500/14600 [35:20<09:00,  5.73it/s]Saving model checkpoint to ./model/checkpoint-11500\n",
            "Configuration saved in ./model/checkpoint-11500\\config.json\n"
          ]
        },
        {
          "name": "stdout",
          "output_type": "stream",
          "text": [
            "{'loss': 0.0207, 'learning_rate': 2.123287671232877e-06, 'epoch': 39.38}\n"
          ]
        },
        {
          "name": "stderr",
          "output_type": "stream",
          "text": [
            "Model weights saved in ./model/checkpoint-11500\\pytorch_model.bin\n",
            "tokenizer config file saved in ./model/checkpoint-11500\\tokenizer_config.json\n",
            "Special tokens file saved in ./model/checkpoint-11500\\special_tokens_map.json\n",
            " 82%|████████▏ | 12000/14600 [36:48<07:16,  5.95it/s]Saving model checkpoint to ./model/checkpoint-12000\n",
            "Configuration saved in ./model/checkpoint-12000\\config.json\n"
          ]
        },
        {
          "name": "stdout",
          "output_type": "stream",
          "text": [
            "{'loss': 0.0204, 'learning_rate': 1.7808219178082193e-06, 'epoch': 41.1}\n"
          ]
        },
        {
          "name": "stderr",
          "output_type": "stream",
          "text": [
            "Model weights saved in ./model/checkpoint-12000\\pytorch_model.bin\n",
            "tokenizer config file saved in ./model/checkpoint-12000\\tokenizer_config.json\n",
            "Special tokens file saved in ./model/checkpoint-12000\\special_tokens_map.json\n",
            " 86%|████████▌ | 12500/14600 [38:15<06:11,  5.65it/s]Saving model checkpoint to ./model/checkpoint-12500\n",
            "Configuration saved in ./model/checkpoint-12500\\config.json\n"
          ]
        },
        {
          "name": "stdout",
          "output_type": "stream",
          "text": [
            "{'loss': 0.0175, 'learning_rate': 1.4383561643835616e-06, 'epoch': 42.81}\n"
          ]
        },
        {
          "name": "stderr",
          "output_type": "stream",
          "text": [
            "Model weights saved in ./model/checkpoint-12500\\pytorch_model.bin\n",
            "tokenizer config file saved in ./model/checkpoint-12500\\tokenizer_config.json\n",
            "Special tokens file saved in ./model/checkpoint-12500\\special_tokens_map.json\n",
            " 89%|████████▉ | 13000/14600 [39:43<04:21,  6.13it/s]Saving model checkpoint to ./model/checkpoint-13000\n",
            "Configuration saved in ./model/checkpoint-13000\\config.json\n"
          ]
        },
        {
          "name": "stdout",
          "output_type": "stream",
          "text": [
            "{'loss': 0.0169, 'learning_rate': 1.095890410958904e-06, 'epoch': 44.52}\n"
          ]
        },
        {
          "name": "stderr",
          "output_type": "stream",
          "text": [
            "Model weights saved in ./model/checkpoint-13000\\pytorch_model.bin\n",
            "tokenizer config file saved in ./model/checkpoint-13000\\tokenizer_config.json\n",
            "Special tokens file saved in ./model/checkpoint-13000\\special_tokens_map.json\n",
            " 92%|█████████▏| 13500/14600 [41:10<03:15,  5.63it/s]Saving model checkpoint to ./model/checkpoint-13500\n",
            "Configuration saved in ./model/checkpoint-13500\\config.json\n"
          ]
        },
        {
          "name": "stdout",
          "output_type": "stream",
          "text": [
            "{'loss': 0.0152, 'learning_rate': 7.534246575342466e-07, 'epoch': 46.23}\n"
          ]
        },
        {
          "name": "stderr",
          "output_type": "stream",
          "text": [
            "Model weights saved in ./model/checkpoint-13500\\pytorch_model.bin\n",
            "tokenizer config file saved in ./model/checkpoint-13500\\tokenizer_config.json\n",
            "Special tokens file saved in ./model/checkpoint-13500\\special_tokens_map.json\n",
            " 96%|█████████▌| 14000/14600 [42:38<01:45,  5.71it/s]Saving model checkpoint to ./model/checkpoint-14000\n",
            "Configuration saved in ./model/checkpoint-14000\\config.json\n"
          ]
        },
        {
          "name": "stdout",
          "output_type": "stream",
          "text": [
            "{'loss': 0.0152, 'learning_rate': 4.1095890410958903e-07, 'epoch': 47.95}\n"
          ]
        },
        {
          "name": "stderr",
          "output_type": "stream",
          "text": [
            "Model weights saved in ./model/checkpoint-14000\\pytorch_model.bin\n",
            "tokenizer config file saved in ./model/checkpoint-14000\\tokenizer_config.json\n",
            "Special tokens file saved in ./model/checkpoint-14000\\special_tokens_map.json\n",
            " 99%|█████████▉| 14500/14600 [44:08<00:18,  5.29it/s]Saving model checkpoint to ./model/checkpoint-14500\n",
            "Configuration saved in ./model/checkpoint-14500\\config.json\n"
          ]
        },
        {
          "name": "stdout",
          "output_type": "stream",
          "text": [
            "{'loss': 0.014, 'learning_rate': 6.84931506849315e-08, 'epoch': 49.66}\n"
          ]
        },
        {
          "name": "stderr",
          "output_type": "stream",
          "text": [
            "Model weights saved in ./model/checkpoint-14500\\pytorch_model.bin\n",
            "tokenizer config file saved in ./model/checkpoint-14500\\tokenizer_config.json\n",
            "Special tokens file saved in ./model/checkpoint-14500\\special_tokens_map.json\n",
            "100%|█████████▉| 14599/14600 [44:28<00:00,  5.19it/s]\n",
            "\n",
            "Training completed. Do not forget to share your model on huggingface.co/models =)\n",
            "\n",
            "\n",
            "100%|██████████| 14600/14600 [44:28<00:00,  5.47it/s]"
          ]
        },
        {
          "name": "stdout",
          "output_type": "stream",
          "text": [
            "{'train_runtime': 2668.3688, 'train_samples_per_second': 349.427, 'train_steps_per_second': 5.472, 'train_loss': 0.09273023164435609, 'epoch': 50.0}\n"
          ]
        },
        {
          "name": "stderr",
          "output_type": "stream",
          "text": [
            "\n"
          ]
        },
        {
          "data": {
            "text/plain": [
              "TrainOutput(global_step=14600, training_loss=0.09273023164435609, metrics={'train_runtime': 2668.3688, 'train_samples_per_second': 349.427, 'train_steps_per_second': 5.472, 'train_loss': 0.09273023164435609, 'epoch': 50.0})"
            ]
          },
          "execution_count": 21,
          "metadata": {},
          "output_type": "execute_result"
        }
      ],
      "source": [
        "trainer.train()"
      ]
    },
    {
      "cell_type": "markdown",
      "metadata": {
        "id": "4JBUA0pe-S9b"
      },
      "source": [
        "### Save for future use\n",
        "\n",
        "Hint: try using `save_pretrained`"
      ]
    },
    {
      "cell_type": "code",
      "execution_count": 33,
      "metadata": {
        "colab": {
          "base_uri": "https://localhost:8080/"
        },
        "id": "7e30uXCf-cXc",
        "outputId": "f003dfa4-060a-4419-9ba6-f559029e5402"
      },
      "outputs": [
        {
          "name": "stderr",
          "output_type": "stream",
          "text": [
            "Configuration saved in ./model/finetuned\\config.json\n",
            "Model weights saved in ./model/finetuned\\pytorch_model.bin\n"
          ]
        }
      ],
      "source": [
        "# [ TODO ] practice saving your model for future use\n",
        "\n",
        "model.save_pretrained('./model/finetuned')"
      ]
    },
    {
      "cell_type": "markdown",
      "metadata": {
        "id": "7QSZjlcG9fOk"
      },
      "source": [
        "## Prediction\n",
        "\n",
        "Now we know exactly how to train a model, but how do we use it for predicting results?"
      ]
    },
    {
      "cell_type": "markdown",
      "metadata": {
        "id": "O7akP5Hh9ugG"
      },
      "source": [
        "### Load finetuned model"
      ]
    },
    {
      "cell_type": "code",
      "execution_count": 23,
      "metadata": {
        "id": "Lfb_zJGm9vJP"
      },
      "outputs": [
        {
          "name": "stderr",
          "output_type": "stream",
          "text": [
            "loading configuration file ./model/finetuned1/config.json\n",
            "Model config DistilBertConfig {\n",
            "  \"_name_or_path\": \"./model/finetuned1/\",\n",
            "  \"activation\": \"gelu\",\n",
            "  \"architectures\": [\n",
            "    \"DistilBertForSequenceClassification\"\n",
            "  ],\n",
            "  \"attention_dropout\": 0.1,\n",
            "  \"dim\": 768,\n",
            "  \"dropout\": 0.1,\n",
            "  \"hidden_dim\": 3072,\n",
            "  \"id2label\": {\n",
            "    \"0\": \"LABEL_0\",\n",
            "    \"1\": \"LABEL_1\",\n",
            "    \"2\": \"LABEL_2\",\n",
            "    \"3\": \"LABEL_3\",\n",
            "    \"4\": \"LABEL_4\",\n",
            "    \"5\": \"LABEL_5\"\n",
            "  },\n",
            "  \"initializer_range\": 0.02,\n",
            "  \"label2id\": {\n",
            "    \"LABEL_0\": 0,\n",
            "    \"LABEL_1\": 1,\n",
            "    \"LABEL_2\": 2,\n",
            "    \"LABEL_3\": 3,\n",
            "    \"LABEL_4\": 4,\n",
            "    \"LABEL_5\": 5\n",
            "  },\n",
            "  \"max_position_embeddings\": 512,\n",
            "  \"model_type\": \"distilbert\",\n",
            "  \"n_heads\": 12,\n",
            "  \"n_layers\": 6,\n",
            "  \"pad_token_id\": 0,\n",
            "  \"problem_type\": \"multi_label_classification\",\n",
            "  \"qa_dropout\": 0.1,\n",
            "  \"seq_classif_dropout\": 0.2,\n",
            "  \"sinusoidal_pos_embds\": false,\n",
            "  \"tie_weights_\": true,\n",
            "  \"torch_dtype\": \"float32\",\n",
            "  \"transformers_version\": \"4.24.0\",\n",
            "  \"vocab_size\": 30522\n",
            "}\n",
            "\n",
            "loading weights file ./model/finetuned1/pytorch_model.bin\n",
            "All model checkpoint weights were used when initializing DistilBertForSequenceClassification.\n",
            "\n",
            "All the weights of DistilBertForSequenceClassification were initialized from the model checkpoint at ./model/finetuned1/.\n",
            "If your task is similar to the task the model of the checkpoint was trained on, you can already use DistilBertForSequenceClassification for predictions without further training.\n"
          ]
        }
      ],
      "source": [
        "# [ TODO ] load the model that you saved\n",
        "from transformers import AutoModelForSequenceClassification\n",
        "mymodel = AutoModelForSequenceClassification.from_pretrained('./model/finetuned/', num_labels = LABEL_COUNT)"
      ]
    },
    {
      "cell_type": "markdown",
      "metadata": {
        "id": "a6Vs3iBE_nck"
      },
      "source": [
        "### Get the prediction\n",
        "\n",
        "Here are a few example sentences:"
      ]
    },
    {
      "cell_type": "code",
      "execution_count": 24,
      "metadata": {
        "id": "FtLt6IBi_pLF"
      },
      "outputs": [],
      "source": [
        "examples = [\n",
        "    # A2\n",
        "    \"Remember to write me a letter.\",\n",
        "    # B2\n",
        "    \"Strawberries and cream - a perfect combination.\",\n",
        "    \"This so-called \\\"Perfect Evening\\\" was so disappointing, as well as discouraging us from coming to your Circle Theatre again.\",\n",
        "    # C1\n",
        "    \"Some may altogether give up their studies, which I think is a disastrous move.\",\n",
        "]"
      ]
    },
    {
      "cell_type": "markdown",
      "metadata": {
        "id": "_xhk7ZRX_2U2"
      },
      "source": [
        "All we need to do is to transform them to embeddings, and then we can get predictions by calling your finetuned model.  \n",
        "\n",
        "Since we don't have a DataCollator to pad the sentence and do the matrix transformation this time, we have to pad and transform the matrice on our own."
      ]
    },
    {
      "cell_type": "code",
      "execution_count": 25,
      "metadata": {
        "colab": {
          "base_uri": "https://localhost:8080/"
        },
        "id": "tWONG_lCAkyN",
        "outputId": "0c408ae7-997d-4c0c-8f49-c6196397602f"
      },
      "outputs": [
        {
          "data": {
            "text/plain": [
              "tensor([[ -0.9517,  -0.0914,  -9.9327,  -5.6061,  -7.9281, -10.1516],\n",
              "        [ -5.2187,  -7.7887,  -3.6023,   1.1966,  -3.9121,  -5.7949],\n",
              "        [ -9.3922,  -6.8770,  -7.9751,  -0.8796,   0.7909,  -9.3858],\n",
              "        [ -8.9794,  -6.9766,  -8.5034,   3.1735,  -4.0929,  -7.8373]],\n",
              "       grad_fn=<AddmmBackward0>)"
            ]
          },
          "execution_count": 25,
          "metadata": {},
          "output_type": "execute_result"
        }
      ],
      "source": [
        "# Transform the sentences into embeddings\n",
        "input = tokenizer(examples, truncation=True, padding=True, return_tensors=\"pt\")\n",
        "# Get the output\n",
        "logits = mymodel(**input).logits\n",
        "logits"
      ]
    },
    {
      "cell_type": "markdown",
      "metadata": {
        "id": "vBMUBD-1BFW1"
      },
      "source": [
        "Logits aren't very readable for us. Let's use softmax \n",
        "activation to transform them into more probability-like numbers."
      ]
    },
    {
      "cell_type": "code",
      "execution_count": 26,
      "metadata": {
        "colab": {
          "base_uri": "https://localhost:8080/"
        },
        "id": "yjiKxLaBBGah",
        "outputId": "006d24be-ed4f-48cb-ab2c-fa7b70b44dd0"
      },
      "outputs": [
        {
          "data": {
            "text/plain": [
              "tensor([[2.9632e-01, 7.0052e-01, 3.7273e-05, 2.8209e-03, 2.7667e-04, 2.9944e-05],\n",
              "        [1.6089e-03, 1.2314e-04, 8.1011e-03, 9.8332e-01, 5.9428e-03, 9.0429e-04],\n",
              "        [3.1800e-05, 3.9335e-04, 1.3117e-04, 1.5826e-01, 8.4115e-01, 3.2004e-05],\n",
              "        [5.2691e-06, 3.9043e-05, 8.4811e-06, 9.9923e-01, 6.9807e-04, 1.6510e-05]],\n",
              "       grad_fn=<SoftmaxBackward0>)"
            ]
          },
          "execution_count": 26,
          "metadata": {},
          "output_type": "execute_result"
        }
      ],
      "source": [
        "from torch import nn\n",
        "\n",
        "predicts = nn.functional.softmax(logits, dim = -1)\n",
        "predicts"
      ]
    },
    {
      "cell_type": "markdown",
      "metadata": {
        "id": "zAqgoJTFBchb"
      },
      "source": [
        "#### Transform logits back to labels\n",
        "\n",
        "Now you've got the output. Write a function to map it back into labels!"
      ]
    },
    {
      "cell_type": "code",
      "execution_count": 27,
      "metadata": {},
      "outputs": [
        {
          "data": {
            "text/plain": [
              "array(['A2', 'B2', 'C1', 'B2'], dtype='<U2')"
            ]
          },
          "execution_count": 27,
          "metadata": {},
          "output_type": "execute_result"
        }
      ],
      "source": [
        "label = ['A1', 'A2', 'B1', 'B2', 'C1', 'C2']\n",
        "def res2label(e):\n",
        "    return label[e]\n",
        "res = np.vectorize(res2label)(np.array(torch.argmax(predicts, dim=1)))\n",
        "res"
      ]
    },
    {
      "cell_type": "markdown",
      "metadata": {
        "id": "gfCuP95IBvP-"
      },
      "source": [
        "## Evaluation\n",
        "\n",
        "Let's see how you did!  \n",
        "Load the testing data and calculate your accuracy.\n",
        "\n",
        "We want you to calculate the three kinds of accuracy mentioned in the lecture, which will also be explained in the following section."
      ]
    },
    {
      "cell_type": "code",
      "execution_count": 28,
      "metadata": {
        "id": "C8hUc4sLCW40"
      },
      "outputs": [],
      "source": [
        "# [ TODO ] \n",
        "# load test data\n",
        "# preprocess\n",
        "input = tokenizer(processed_data['test']['text'], truncation=True, padding=True, return_tensors=\"pt\")\n",
        "# get predictions\n",
        "logits = mymodel(**input).logits\n",
        "predicts = nn.functional.softmax(logits, dim = -1)\n",
        "predicts = np.array(torch.argmax(predicts, dim=1))\n",
        "# transform predictions back into labels\n",
        "predict_label = np.vectorize(res2label)(predicts)"
      ]
    },
    {
      "cell_type": "code",
      "execution_count": 29,
      "metadata": {
        "colab": {
          "base_uri": "https://localhost:8080/"
        },
        "id": "AoC2EAHxCXdj",
        "outputId": "cc711f3c-c789-4d0f-d92f-adf04dc54432"
      },
      "outputs": [
        {
          "name": "stdout",
          "output_type": "stream",
          "text": [
            "C2: No longer a remote, backward, unimportant country, it became a force to be reckoned with in Europe.\n",
            "B2: Unfortunately he was too fast and I couldn't keep up with him.\n",
            "B2: Most mushrooms are totally harmless, but some are poisonous.\n",
            "B2: This provided solid evidence that he committed the crime.\n",
            "C1: You can't just accept everything you read in the newspapers at face value.\n",
            "A2: Remember to write me a letter.\n",
            "B1: She has long blond hair and blue eyes. She has a good figure.\n",
            "B2: Nowadays the aim in clothing is not just for covering and protecting ourselves.\n",
            "A2: Take two tablets, three times a day.\n",
            "C2: Well, you will be if you saw our slide show and talk - members can hardly forget that relaxing afternoon when we unfolded the sails on the lake and enjoyed the tranquility of the area.\n"
          ]
        }
      ],
      "source": [
        "#  try printing out some predictions to check if the outputs are reasonable and if you need to adjust your model at the end of every step.\n",
        "\n",
        "for idx, (sent, level) in enumerate(zip(processed_data['test']['text'], predict_label)):\n",
        "    if idx >= 10: break\n",
        "    print(f'{level}: {sent}') "
      ]
    },
    {
      "cell_type": "markdown",
      "metadata": {
        "id": "PBnEzAFhC7ZN"
      },
      "source": [
        "### Six Level Accuracy\n",
        "\n",
        "Exact accuracy is probably what you're most familiar with:\n",
        "\n",
        "$\n",
        "accuracy = \\frac{\\#exactly\\:the\\:same\\:levels}{\\#total}\n",
        "$\n",
        "\n",
        "Example:\n",
        "```\n",
        "Prediction:   A1 A2 B1 B2 C1 C2\n",
        "Ground truth: A2 B1 B1 B2 B2 C2\n",
        "                    ^  ^     ^\n",
        "```\n",
        "\n",
        "The six level accuracy is $\\frac{3}{6} = 0.5$\n",
        "\n",
        "As the requirement, <u>your exact accuracy should be higher than $0.5$</u>."
      ]
    },
    {
      "cell_type": "code",
      "execution_count": 30,
      "metadata": {
        "colab": {
          "base_uri": "https://localhost:8080/"
        },
        "id": "kR2oVECyC8vD",
        "outputId": "72cebbe0-5ada-446b-b5f7-6a9849292792"
      },
      "outputs": [
        {
          "name": "stdout",
          "output_type": "stream",
          "text": [
            "0.5547826086956522\n"
          ]
        }
      ],
      "source": [
        "# [ TODO ] calculate accuracy\n",
        "t = 0\n",
        "for i in range(len(predict_label)):\n",
        "    if(processed_data['test']['level'][i] == predict_label[i]):\n",
        "        t += 1\n",
        "print(round(t/len(predict_label), 16))"
      ]
    },
    {
      "cell_type": "markdown",
      "metadata": {
        "id": "We865ayVC_N7"
      },
      "source": [
        "### Three Level Accuracy\n",
        "\n",
        "Three Level Accuracy is used when you only want a more general sense of right or wrong.\n",
        "\n",
        "$\n",
        "accuracy = \\frac{\\#the\\:same\\:ABC\\:levels}{\\#total}\n",
        "$\n",
        "\n",
        "Example:\n",
        "```\n",
        "Prediction:   A1 A2 B1 B2 C1 C2\n",
        "Ground truth: A2 B1 B1 B2 B2 C2\n",
        "              ^     ^  ^     ^\n",
        "```\n",
        "\n",
        "The three level accuracy is $\\frac{4}{6} = 0.667$\n",
        "\n",
        "As the requirement, <u>your exact accuracy should be higher than $0.6$</u>."
      ]
    },
    {
      "cell_type": "code",
      "execution_count": 31,
      "metadata": {
        "colab": {
          "base_uri": "https://localhost:8080/"
        },
        "id": "DCAKM9MRDCBk",
        "outputId": "f599130e-de22-4b28-a521-f378afd52711"
      },
      "outputs": [
        {
          "name": "stdout",
          "output_type": "stream",
          "text": [
            "0.7378260869565217\n"
          ]
        }
      ],
      "source": [
        "# [ TODO ] calculate accuracy\n",
        "t = 0\n",
        "for i in range(len(predict_label)):\n",
        "    if(processed_data['test']['level'][i][0] == predict_label[i][0]):\n",
        "        t += 1\n",
        "print(round(t/len(predict_label), 16))"
      ]
    },
    {
      "cell_type": "markdown",
      "metadata": {
        "id": "3YSo46NX7nvb"
      },
      "source": [
        "### Fuzzy accuracy\n",
        "\n",
        "However, the level of a sentence is relatively subjective. Generally speaking, $\\pm1$ errors are allowed in the real evaluation in linguistic area.  \n",
        "\n",
        "For example, if the actual label is 'B1', we'll also consider the prediction 'right' if the model predicts 'B2' or 'A2'.\n",
        "\n",
        "Hence, the fuzzy accuracy is\n",
        "\n",
        "$\n",
        "accuracy = \\frac{\\#good\\:enough\\:answers}{\\#total}\n",
        "$\n",
        "\n",
        "Example:\n",
        "```\n",
        "Prediction:   0 1 2 3 4 5\n",
        "Ground truth: 0 1 1 3 3 3\n",
        "              ^ ^ ^ ^ ^\n",
        "```\n",
        "\n",
        "The fuzzy accuracy is $\\frac{5}{6} = 0.833$\n",
        "\n",
        "As the requirement, <u>your accuracy should be higher than $0.8$</u>."
      ]
    },
    {
      "cell_type": "code",
      "execution_count": 32,
      "metadata": {
        "colab": {
          "base_uri": "https://localhost:8080/"
        },
        "id": "27fP0BTc73Al",
        "outputId": "e792e699-4e04-4a82-ebff-d133aead0b60"
      },
      "outputs": [
        {
          "name": "stdout",
          "output_type": "stream",
          "text": [
            "0.8578260869565217\n"
          ]
        }
      ],
      "source": [
        "# [ TODO ] calculate accuracy\n",
        "index = {'A1': 0, 'A2': 1, 'B1': 2, 'B2': 3, 'C1': 4, 'C2': 5}\n",
        "def label2index(l):\n",
        "    return index.get(l)\n",
        "\n",
        "test_index = list(map(label2index, list(processed_data['test']['level'])))\n",
        "\n",
        "t = 0\n",
        "for i in range(len(predict_label)):\n",
        "    if(abs(test_index[i] - predicts[i]) <= 1):\n",
        "        t += 1\n",
        "print(round(t/len(predict_label), 16))"
      ]
    },
    {
      "cell_type": "markdown",
      "metadata": {
        "id": "BPrSLQEDDfeE"
      },
      "source": [
        "## TA's Note\n",
        "\n",
        "Congratulations, you made it to the end of the tutorial! Make sure you make an appointment to show your work and turn in your finished assignment before next week's lesson. We will ask you to run your code, so double check that everything is working and that your model is saved. Don't worry if you didn't pass the evaluation requirements, you'll still get partial points for trying."
      ]
    },
    {
      "cell_type": "markdown",
      "metadata": {
        "id": "aL7CAtRQbR7s"
      },
      "source": [
        "## Appendix "
      ]
    },
    {
      "cell_type": "markdown",
      "metadata": {
        "id": "lqqUYYPEanAF"
      },
      "source": [
        "\n",
        "<a name=\"Appendix-1-Install-CUDA\"></a>\n",
        "\n",
        "### Appendix 1 - Install CUDA\n",
        "\n",
        "1. Check your GPU vs. CUDA compatibility:\n",
        "   - [NVIDIA -> Your GPU Compute Capability](https://developer.nvidia.com/cuda-gpus) -> GeForce and TITAN Products\n",
        "2. Check library vs. CUDA compatibility: \n",
        "   - Pytorch: [Previous PyTorch Versions](https://pytorch.org/get-started/previous-versions/)\n",
        "   - Tensorflow: [Linux/MacOX](https://www.tensorflow.org/install/source#tested_build_configurations) or [Windows](https://www.tensorflow.org/install/source_windows#tested_build_configurations)\n",
        "3. Note the highest CUDA version that fits your system.\n",
        "\n",
        "#### >> for conda/mamba users\n",
        "\n",
        "You can directly install CUDA library with the selected CUDA version.\n",
        "1. Get [the driver for NVIDIA GPU](https://www.nvidia.com/download/index.aspx)\n",
        "2. `conda/mamba install -c conda-forge cudatoolkit=${VERSION}`\n",
        "\n",
        "#### >> for non-conda users\n",
        "\n",
        "1. Get [the driver for NVIDIA GPU](https://www.nvidia.com/download/index.aspx)\n",
        "2. Download and install [CUDA Toolkit](https://developer.nvidia.com/cuda-toolkit-archive)\n",
        "3. Download and install [cuDNN Library](https://developer.nvidia.com/rdp/cudnn-archive)"
      ]
    },
    {
      "cell_type": "markdown",
      "metadata": {
        "id": "8hFAM1Cya4_c"
      },
      "source": [
        "### Appendix 2 - Further Readings\n",
        "\n",
        "1. [Huggingface Official Tutorials](https://github.com/huggingface/notebooks/tree/master/examples)\n",
        "2. How to use Bert with other downstream tasks: [How to use BERT from the Hugging Face transformer library](https://towardsdatascience.com/how-to-use-bert-from-the-hugging-face-transformer-library-d373a22b0209): \n",
        "3. Training with pytorch backend: [transformers-tutorials](https://github.com/abhimishra91/transformers-tutorials)\n",
        "4. A more complicated example that include manual data/training processing with Pytorch: [Transformers for Multi-Label Classification made simple](https://towardsdatascience.com/transformers-for-multilabel-classification-71a1a0daf5e1)\n",
        "5. [Text Classification with tensorflow](https://github.com/huggingface/notebooks/blob/master/examples/text_classification-tf.ipynb): tensorflow example"
      ]
    }
  ],
  "metadata": {
    "accelerator": "GPU",
    "colab": {
      "provenance": []
    },
    "gpuClass": "standard",
    "kernelspec": {
      "display_name": "Python 3.9.13 ('pytorch')",
      "language": "python",
      "name": "python3"
    },
    "language_info": {
      "codemirror_mode": {
        "name": "ipython",
        "version": 3
      },
      "file_extension": ".py",
      "mimetype": "text/x-python",
      "name": "python",
      "nbconvert_exporter": "python",
      "pygments_lexer": "ipython3",
      "version": "3.9.13"
    },
    "vscode": {
      "interpreter": {
        "hash": "eb022b0a3143723ded761c35a12cb3644530daea512f8aed4677986e45294f05"
      }
    }
  },
  "nbformat": 4,
  "nbformat_minor": 0
}
