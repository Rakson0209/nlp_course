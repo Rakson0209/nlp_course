{
 "cells": [
  {
   "cell_type": "markdown",
   "metadata": {
    "id": "RVPIBjwjx6pO"
   },
   "source": [
    "# Word Count, Phrase Analysis, Cross-Corpus Analysis\n",
    "\n",
    "In learning English, there are phrases and words that are overly used and seldom used - it depends on what corpus is being used. Here, we will do word count, phrase analysis and cross-corpus analysis to determine the phrases that are overly used by learners.\n",
    "<br><br>\n",
    "One dataset is taken from [`British National Corpus`](http://www.natcorp.ox.ac.uk/), which is from 100 million word collection of samples of written and spoken language from a wide range of sources, designed to represent a wide cross-section of British English, both spoken and written, from the late twentieth century. Another one is called [`NAIST Lang-8`](https://sites.google.com/site/naistlang8corpora/),a language exchange social networking website geared towards language learners. The website is run by Lang-8 Inc., which is based in Tokyo, Japan.\n",
    "\n",
    "\n",
    "https://drive.google.com/drive/folders/1vtCjRptZL6T4mffzbnqwi5i4WrqVnZHr?usp=sharing\n"
   ]
  },
  {
   "cell_type": "markdown",
   "metadata": {
    "id": "xotpb7p5x6pd"
   },
   "source": [
    "## N-gram counting\n",
    "We will do tokenization and calculation of frequency. The rules of tokenization in this Lab are:\n",
    " 1. Ignore case (e.g., \"The\" is the same as \"the\")\n",
    " 2. Split by white spaces <s>and punctuations</s>\n",
    " 3. Ignore all punctuation\n",
    "<br><br>"
   ]
  },
  {
   "cell_type": "code",
   "execution_count": 2,
   "metadata": {
    "id": "GC_wab2p2Pam"
   },
   "outputs": [],
   "source": [
    "import os\n",
    "import re\n",
    "import string"
   ]
  },
  {
   "cell_type": "code",
   "execution_count": 3,
   "metadata": {
    "id": "8iLjwEwBx6ph"
   },
   "outputs": [],
   "source": [
    "\n",
    "def tokenize(text):\n",
    "    \"\"\"\n",
    "    Input:\n",
    "    \"This is an example.'\n",
    "\n",
    "    Sample output: \n",
    "    ['this', 'is', 'an', 'example', '.']\n",
    "    \"\"\"  \n",
    "    #### [ TODO ] transform text to lower case\n",
    "    text = text.lower()\n",
    "    #### [ TODO ] seperate the words by white space\n",
    "    tokens = text.split(' ')\n",
    "    return tokens\n",
    "    \n",
    "from collections import Counter\n",
    "\n",
    "def calculate_frequency(tokens):\n",
    "    \"\"\"\n",
    "    Input:\n",
    "    ['this', 'is', 'an', 'example', ...]\n",
    "\n",
    "    Sample output: \n",
    "    {\n",
    "        'the': 79809, \n",
    "        'project': 288,\n",
    "        ...\n",
    "    }\n",
    "    \"\"\"\n",
    "    frequency = Counter(tokens)\n",
    "    return frequency\n",
    "    #### [ TODO ] \n",
    "   \n",
    "\n",
    "\n",
    "def get_ngram(tokens, n=2):\n",
    "    \"\"\"\n",
    "    Input:\n",
    "    ['this', 'is', 'an', 'example', ...]\n",
    "\n",
    "    Sample output: \n",
    "    ['this is', 'is an', 'an example', ...]\n",
    "    \"\"\"\n",
    "    #### [TODO] \n",
    "    return [' '.join(tokens[i:i+n]) for i in range(len(tokens)-1)]\n",
    "    "
   ]
  },
  {
   "cell_type": "code",
   "execution_count": 3,
   "metadata": {
    "id": "Sj3-ZuWP2Pao"
   },
   "outputs": [],
   "source": [
    "file_path = os.path.join('data', 'bnc.txt')\n",
    "BNC_unigram = []\n",
    "#### [ TODO ] generate BNC unigrams and calculate document frequency of unigram in BNC\n",
    "with open(file_path, 'r', encoding='UTF-8') as f:\n",
    "    for line in f:\n",
    "        tokens = tokenize(line)\n",
    "        BNC_unigram.extend(tokens)\n",
    "\n",
    "BNC_unigram_counter = calculate_frequency(BNC_unigram)"
   ]
  },
  {
   "cell_type": "code",
   "execution_count": 4,
   "metadata": {
    "id": "eZlkiCuQx6pt"
   },
   "outputs": [],
   "source": [
    "# Read lang-8 Data\n",
    "file_path = os.path.join('data','lang8.txt')\n",
    "lang_unigram = []\n",
    "\n",
    "#### [ TODO ] generate lang8 unigrams and calculate document frequency of unigram in lang8\n",
    "with open(file_path, 'r', encoding='UTF-8') as f:\n",
    "    for line in f:\n",
    "        tokens = tokenize(line)\n",
    "        lang_unigram.extend(tokens)\n",
    "\n",
    "lang_unigram_counter = calculate_frequency(lang_unigram)\n"
   ]
  },
  {
   "cell_type": "markdown",
   "metadata": {
    "id": "lPBceKOax6pt"
   },
   "source": [
    "## Rank\n",
    "Rank unigrms by their frequencies. The higher the frequency, the higher the rank. (The most frequent unigram ranks 1.)<br>\n",
    "<span style=\"color: red\">[ TODO ]</span> <u>Rank unigrams for Lang-8 and BNC.</u>."
   ]
  },
  {
   "cell_type": "code",
   "execution_count": 14,
   "metadata": {
    "id": "SH9xlXpBx6pu"
   },
   "outputs": [],
   "source": [
    "lang_unigram_Rank = {}\n",
    "\n",
    "#### [ TODO ] Rank unigrams for lang\n",
    "\n",
    "sorted_lang_unigram = sorted(lang_unigram_counter.items(), key=lambda word: word[1],reverse=True)\n",
    "j = 1\n",
    "for i in sorted_lang_unigram:\n",
    "    lang_unigram_Rank[i[0]] = j\n",
    "    j = j+1"
   ]
  },
  {
   "cell_type": "code",
   "execution_count": 16,
   "metadata": {
    "id": "rN3MQTebx6pv"
   },
   "outputs": [],
   "source": [
    "BNC_unigram_Rank = {}\n",
    "\n",
    "#### [ TODO ] Rank unigrams for BNC\n",
    "\n",
    "sorted_BNC_unigram = sorted(BNC_unigram_counter.items(), key=lambda word: word[1],reverse=True)\n",
    "j = 1\n",
    "for i in sorted_BNC_unigram:\n",
    "    BNC_unigram_Rank[i[0]] = j\n",
    "    j = j+1"
   ]
  },
  {
   "cell_type": "markdown",
   "metadata": {
    "id": "pm26VfkDx6pv"
   },
   "source": [
    "## Calculate Rank Ratio\n",
    "In this step, you need to map the same unigram in two dataset, and calculate the Rank Ratio of unigrams.  <br>Please follow the formula for calculating Rank Ratio:<br> \n",
    "<br>\n",
    "\n",
    "$Rank Ratio = \\frac{Rank of BNC }{Rank of Lang8}$\n",
    "<br><br>\n",
    "If the unigram doesn't appear in BNC, the rank of it is treated as 1.\n",
    "\n",
    "<span style=\"color: red\">[ TODO ]</span> Please calculate all rank ratios of unigrams in Lang-8."
   ]
  },
  {
   "cell_type": "code",
   "execution_count": 18,
   "metadata": {
    "id": "kNSj6gbU2Paq"
   },
   "outputs": [],
   "source": [
    "#### [ TODO ] Calculate Rank Ratio\n",
    "unigram_rank_ratio = {}\n",
    "for unigram, rank in lang_unigram_Rank.items():\n",
    "    if unigram in BNC_unigram_Rank.keys():\n",
    "        unigram_rank_ratio[unigram] = BNC_unigram_Rank[unigram]/rank\n",
    "    else:\n",
    "        unigram_rank_ratio[unigram] = 1/rank"
   ]
  },
  {
   "cell_type": "markdown",
   "metadata": {
    "id": "7U08oh2Ex6pw"
   },
   "source": [
    "## sort the result\n",
    "<span style=\"color: red\">[ TODO ]</span> Please show top 30 unigrams in Rank Ratio and the value of their Rank Ratio in this format: \n",
    "<br>\n",
    "<img src=\"https://scontent-hkt1-2.xx.fbcdn.net/v/t39.30808-6/307940624_756082125461769_4218487831464443689_n.jpg?_nc_cat=100&ccb=1-7&_nc_sid=730e14&_nc_ohc=M0u8b1s2wakAX_Mgt7E&_nc_ht=scontent-hkt1-2.xx&oh=00_AT_peeQy_D2UyQYlMWbCIZjQTU7F38SJyE2A09J_SnZ-aA&oe=632E03C0\" width=50%>"
   ]
  },
  {
   "cell_type": "code",
   "execution_count": 37,
   "metadata": {
    "id": "MhyGW1jC2Paq",
    "outputId": "f3c349ba-6859-4d68-dff8-4e02d3846c77"
   },
   "outputs": [
    {
     "name": "stdout",
     "output_type": "stream",
     "text": [
      "rank\tunigram\t\t\tRank\tRatio\n",
      "1\t'the\t\t\t368.504\n",
      "2\tworld.\t\t\t335.697\n",
      "3\tyears.\t\t\t290.015\n",
      "4\tlife.\t\t\t203.29\n",
      "5\tthem.\t\t\t189.452\n",
      "6\tsociety.\t\t\t185.065\n",
      "7\tvalue.\t\t\t175.799\n",
      "8\tcountry.\t\t\t170.908\n",
      "9\tit.\t\t\t169.416\n",
      "10\t1.\t\t\t161.564\n",
      "11\tyear.\t\t\t148.194\n",
      "12\twork.\t\t\t146.203\n",
      "13\tway.\t\t\t138.256\n",
      "14\tplace.\t\t\t137.674\n",
      "15\tbelow.\t\t\t133.332\n",
      "16\tstates.\t\t\t132.424\n",
      "17\tproblems.\t\t\t131.027\n",
      "18\tactivities.\t\t\t126.197\n",
      "19\ttoday.\t\t\t126.056\n",
      "20\tother.\t\t\t122.825\n",
      "21\tout.\t\t\t110.795\n",
      "22\tthis.\t\t\t105.3\n",
      "23\tservice.\t\t\t98.54\n",
      "24\tarea.\t\t\t97.132\n",
      "25\tstrategy.\t\t\t95.607\n",
      "26\twell.\t\t\t94.41\n",
      "27\tagain.\t\t\t92.409\n",
      "28\tchildren.\t\t\t91.014\n",
      "29\teurope.\t\t\t89.698\n",
      "30\tperformance.\t\t\t89.025\n"
     ]
    }
   ],
   "source": [
    "#### [ TODO ] \n",
    "print('rank\\tunigram\\t\\t\\tRank\\tRatio')\n",
    "sorted_unigram_rank_ratio = {}\n",
    "j = 0\n",
    "sorted_unigram_rank_ratio = sorted(unigram_rank_ratio.items(), key=lambda word: word[1],reverse=True)\n",
    "for unigram, rank_ratio in sorted_unigram_rank_ratio:\n",
    "    print(f'{j+1}\\t{unigram}\\t\\t\\t{round(rank_ratio, 3)}')\n",
    "    j = j+1\n",
    "    if j == 30:\n",
    "        break\n"
   ]
  },
  {
   "cell_type": "markdown",
   "metadata": {
    "id": "nOllPQ9-x6px"
   },
   "source": [
    "## for Bigrams\n",
    "<span style=\"color: red\">[ TODO ]</span> Do the Same Thing for Bigrams  \n",
    "Hint:  \n",
    "1. generate all bigrams for BNC / lang8  \n",
    "2. calculate frequency for each bigrams  \n",
    "3. rank bigrams by frequency  \n",
    "4. calculate the rank ratio of each bigram\n",
    "5. print out the top 30 highest rank ratio bigrams  "
   ]
  },
  {
   "cell_type": "code",
   "execution_count": 4,
   "metadata": {
    "id": "zNR5m63D8Zf2"
   },
   "outputs": [],
   "source": [
    "file_path = os.path.join('data', 'bnc.txt')\n",
    "BNC_bigram = []\n",
    "#### [ TODO ] generate BNC unigrams and calculate document frequency of unigram in BNC\n",
    "with open(file_path, 'r', encoding='UTF-8') as f:\n",
    "    for line in f:\n",
    "        tokens = tokenize(line)\n",
    "        bigram = get_ngram(tokens)\n",
    "        BNC_bigram.extend(bigram)\n",
    "\n",
    "BNC_bigram_counter = calculate_frequency(BNC_bigram)"
   ]
  },
  {
   "cell_type": "code",
   "execution_count": 5,
   "metadata": {},
   "outputs": [],
   "source": [
    "# Read lang-8 Data\n",
    "file_path = os.path.join('data','lang8.txt')\n",
    "lang_bigram = []\n",
    "\n",
    "#### [ TODO ] generate lang8 unigrams and calculate document frequency of unigram in lang8\n",
    "with open(file_path, 'r', encoding='UTF-8') as f:\n",
    "    for line in f:\n",
    "        tokens = tokenize(line)\n",
    "        bigram = get_ngram(tokens) \n",
    "        lang_bigram.extend(bigram)\n",
    "\n",
    "lang_bigram_counter = calculate_frequency(lang_bigram)"
   ]
  },
  {
   "cell_type": "code",
   "execution_count": 6,
   "metadata": {},
   "outputs": [],
   "source": [
    "lang_bigram_Rank = {}\n",
    "\n",
    "#### [ TODO ] Rank unigrams for lang\n",
    "\n",
    "sorted_lang_bigram = sorted(lang_bigram_counter.items(), key=lambda word: word[1],reverse=True)\n",
    "j = 1\n",
    "for i in sorted_lang_bigram:\n",
    "    lang_bigram_Rank[i[0]] = j\n",
    "    j = j+1"
   ]
  },
  {
   "cell_type": "code",
   "execution_count": 7,
   "metadata": {},
   "outputs": [],
   "source": [
    "BNC_bigram_Rank = {}\n",
    "\n",
    "#### [ TODO ] Rank unigrams for BNC\n",
    "\n",
    "sorted_BNC_bigram = sorted(BNC_bigram_counter.items(), key=lambda word: word[1],reverse=True)\n",
    "j = 1\n",
    "for i in sorted_BNC_bigram:\n",
    "    BNC_bigram_Rank[i[0]] = j\n",
    "    j = j+1"
   ]
  },
  {
   "cell_type": "code",
   "execution_count": 8,
   "metadata": {},
   "outputs": [],
   "source": [
    "#### [ TODO ] Calculate Rank Ratio\n",
    "bigram_rank_ratio = {}\n",
    "for bigram, rank in lang_bigram_Rank.items():\n",
    "    if bigram in BNC_bigram_Rank.keys():\n",
    "        bigram_rank_ratio[bigram] = BNC_bigram_Rank[bigram]/rank\n",
    "    else:\n",
    "        bigram_rank_ratio[bigram] = 1/rank"
   ]
  },
  {
   "cell_type": "code",
   "execution_count": 9,
   "metadata": {},
   "outputs": [
    {
     "name": "stdout",
     "output_type": "stream",
     "text": [
      "rank\tbigram\t\t\tRank\tRatio\n",
      "1\tthe country.\t\t\t1525.922\n",
      "2\tthe internet\t\t\t1289.347\n",
      "3\tintroduction this\t\t\t1258.465\n",
      "4\tas well.\t\t\t1127.555\n",
      "5\theat exchanger\t\t\t1099.119\n",
      "6\tthe other.\t\t\t906.431\n",
      "7\tthe bohr\t\t\t856.34\n",
      "8\tof society.\t\t\t849.987\n",
      "9\tfor them.\t\t\t831.704\n",
      "10\tin 2004\t\t\t781.397\n",
      "11\thistory relevant\t\t\t735.047\n",
      "12\tchild soldiers\t\t\t722.501\n",
      "13\tbirthweight ratio\t\t\t702.668\n",
      "14\texam performance\t\t\t699.844\n",
      "15\t-1 the\t\t\t676.44\n",
      "16\tor not.\t\t\t675.417\n",
      "17\t2 figure\t\t\t669.589\n",
      "18\tgenetically modified\t\t\t664.976\n",
      "19\tunited states.\t\t\t648.111\n",
      "20\trate constant\t\t\t632.863\n",
      "21\topen source\t\t\t616.6\n",
      "22\tto him.\t\t\t613.239\n",
      "23\tbased care\t\t\t606.654\n",
      "24\ttort law\t\t\t598.446\n",
      "25\tof them.\t\t\t589.531\n",
      "26\tinduction motor\t\t\t575.241\n",
      "27\tinternet and\t\t\t561.387\n",
      "28\teu is\t\t\t557.598\n",
      "29\tthe tamworth\t\t\t548.5\n",
      "30\tbowel sounds\t\t\t524.632\n"
     ]
    }
   ],
   "source": [
    "#### [ TODO ] \n",
    "print('rank\\tbigram\\t\\t\\tRank\\tRatio')\n",
    "sorted_bigram_rank_ratio = {}\n",
    "j = 0\n",
    "sorted_bigram_rank_ratio = sorted(bigram_rank_ratio.items(), key=lambda word: word[1],reverse=True)\n",
    "for bigram, rank_ratio in sorted_bigram_rank_ratio:\n",
    "    print(f'{j+1}\\t{bigram}\\t\\t\\t{round(rank_ratio, 3)}')\n",
    "    j = j+1\n",
    "    if j == 30:\n",
    "        break"
   ]
  },
  {
   "cell_type": "markdown",
   "metadata": {
    "id": "ef-_B3bnx6py"
   },
   "source": [
    "## TA's Notes\n",
    "\n",
    "If you complete the Assignment, please use [this link](https://docs.google.com/spreadsheets/d/1OKbXhcv6E3FEQDPnbHEHEeHvpxv01jxugMP7WwnKqKw/edit#gid=0) to reserve demo time.  \n",
    "The score is only given after TAs review your implementation, so <u>**make sure you make a appointment with a TA before you miss the deadline**</u> .  <br>After demo, please upload your assignment to e-learn website. You just need to hand in this ipynb file and rename it as XXXXXXXXX(Your student ID).ipynb.\n",
    "<br>Note that **late submission will not be allowed**.  "
   ]
  }
 ],
 "metadata": {
  "colab": {
   "collapsed_sections": [],
   "provenance": []
  },
  "kernelspec": {
   "display_name": "Python 3.10.7 ('venv': venv)",
   "language": "python",
   "name": "python3"
  },
  "language_info": {
   "codemirror_mode": {
    "name": "ipython",
    "version": 3
   },
   "file_extension": ".py",
   "mimetype": "text/x-python",
   "name": "python",
   "nbconvert_exporter": "python",
   "pygments_lexer": "ipython3",
   "version": "3.10.7"
  },
  "vscode": {
   "interpreter": {
    "hash": "3a57147a29453fa5586d0764915e6e00b48818e94222b71c0f564726d0796bbf"
   }
  }
 },
 "nbformat": 4,
 "nbformat_minor": 1
}
